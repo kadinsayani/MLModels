{
  "nbformat": 4,
  "nbformat_minor": 0,
  "metadata": {
    "colab": {
      "name": "Iris Flower Classification.ipynb",
      "provenance": [],
      "collapsed_sections": [],
      "authorship_tag": "ABX9TyNpcBoOl/IPkr39lbTP3+h7",
      "include_colab_link": true
    },
    "kernelspec": {
      "name": "python3",
      "display_name": "Python 3"
    }
  },
  "cells": [
    {
      "cell_type": "markdown",
      "metadata": {
        "id": "view-in-github",
        "colab_type": "text"
      },
      "source": [
        "<a href=\"https://colab.research.google.com/github/kadinsayani/MLModels/blob/main/Iris_Flower_Classification.ipynb\" target=\"_parent\"><img src=\"https://colab.research.google.com/assets/colab-badge.svg\" alt=\"Open In Colab\"/></a>"
      ]
    },
    {
      "cell_type": "markdown",
      "metadata": {
        "id": "Z6nJ_NOEWLou"
      },
      "source": [
        "# Iris Flower Classification\n",
        "\n",
        "Classifying Iris flower species using a classification machine learning model."
      ]
    },
    {
      "cell_type": "markdown",
      "metadata": {
        "id": "BE26c2YaW6NY"
      },
      "source": [
        "## Imports"
      ]
    },
    {
      "cell_type": "code",
      "metadata": {
        "id": "fVOYo7qBV2_W"
      },
      "source": [
        "%tensorflow_version 2.x\n",
        "import tensorflow as tf\n",
        "import pandas as pd\n",
        "from __future__ import absolute_import, division, print_function, unicode_literals"
      ],
      "execution_count": 1,
      "outputs": []
    },
    {
      "cell_type": "markdown",
      "metadata": {
        "id": "9Lp1Qca1W1lT"
      },
      "source": [
        "## Importing data"
      ]
    },
    {
      "cell_type": "code",
      "metadata": {
        "id": "3fIN1TwNWvXe"
      },
      "source": [
        "CSV_COLUMN_NAMES = ['SepalLength', 'SepalWidth', 'PetalLength', 'PetalWidth', 'Species']\n",
        "SPECIES = ['Setosa', 'Versicolor', 'Virginica']"
      ],
      "execution_count": 2,
      "outputs": []
    },
    {
      "cell_type": "code",
      "metadata": {
        "id": "twYDFrS6XH2I"
      },
      "source": [
        "train_path = tf.keras.utils.get_file('iris_training.csv', 'https://storage.googleapis.com/download.tensorflow.org/data/iris_training.csv')\n",
        "test_path = tf.keras.utils.get_file('iris_test.csv', 'https://storage.googleapis.com/download.tensorflow.org/data/iris_test.csv')\n",
        "\n",
        "train = pd.read_csv(train_path, names=CSV_COLUMN_NAMES, header=0)\n",
        "test = pd.read_csv(test_path, names=CSV_COLUMN_NAMES, header=0)"
      ],
      "execution_count": 3,
      "outputs": []
    },
    {
      "cell_type": "code",
      "metadata": {
        "colab": {
          "base_uri": "https://localhost:8080/",
          "height": 204
        },
        "id": "k9v8H1NyXmke",
        "outputId": "2d38080d-2172-43f4-de9f-912d0a2ae9c3"
      },
      "source": [
        "train.head()"
      ],
      "execution_count": 4,
      "outputs": [
        {
          "output_type": "execute_result",
          "data": {
            "text/html": [
              "<div>\n",
              "<style scoped>\n",
              "    .dataframe tbody tr th:only-of-type {\n",
              "        vertical-align: middle;\n",
              "    }\n",
              "\n",
              "    .dataframe tbody tr th {\n",
              "        vertical-align: top;\n",
              "    }\n",
              "\n",
              "    .dataframe thead th {\n",
              "        text-align: right;\n",
              "    }\n",
              "</style>\n",
              "<table border=\"1\" class=\"dataframe\">\n",
              "  <thead>\n",
              "    <tr style=\"text-align: right;\">\n",
              "      <th></th>\n",
              "      <th>SepalLength</th>\n",
              "      <th>SepalWidth</th>\n",
              "      <th>PetalLength</th>\n",
              "      <th>PetalWidth</th>\n",
              "      <th>Species</th>\n",
              "    </tr>\n",
              "  </thead>\n",
              "  <tbody>\n",
              "    <tr>\n",
              "      <th>0</th>\n",
              "      <td>6.4</td>\n",
              "      <td>2.8</td>\n",
              "      <td>5.6</td>\n",
              "      <td>2.2</td>\n",
              "      <td>2</td>\n",
              "    </tr>\n",
              "    <tr>\n",
              "      <th>1</th>\n",
              "      <td>5.0</td>\n",
              "      <td>2.3</td>\n",
              "      <td>3.3</td>\n",
              "      <td>1.0</td>\n",
              "      <td>1</td>\n",
              "    </tr>\n",
              "    <tr>\n",
              "      <th>2</th>\n",
              "      <td>4.9</td>\n",
              "      <td>2.5</td>\n",
              "      <td>4.5</td>\n",
              "      <td>1.7</td>\n",
              "      <td>2</td>\n",
              "    </tr>\n",
              "    <tr>\n",
              "      <th>3</th>\n",
              "      <td>4.9</td>\n",
              "      <td>3.1</td>\n",
              "      <td>1.5</td>\n",
              "      <td>0.1</td>\n",
              "      <td>0</td>\n",
              "    </tr>\n",
              "    <tr>\n",
              "      <th>4</th>\n",
              "      <td>5.7</td>\n",
              "      <td>3.8</td>\n",
              "      <td>1.7</td>\n",
              "      <td>0.3</td>\n",
              "      <td>0</td>\n",
              "    </tr>\n",
              "  </tbody>\n",
              "</table>\n",
              "</div>"
            ],
            "text/plain": [
              "   SepalLength  SepalWidth  PetalLength  PetalWidth  Species\n",
              "0          6.4         2.8          5.6         2.2        2\n",
              "1          5.0         2.3          3.3         1.0        1\n",
              "2          4.9         2.5          4.5         1.7        2\n",
              "3          4.9         3.1          1.5         0.1        0\n",
              "4          5.7         3.8          1.7         0.3        0"
            ]
          },
          "metadata": {
            "tags": []
          },
          "execution_count": 4
        }
      ]
    },
    {
      "cell_type": "markdown",
      "metadata": {
        "id": "qBMsFX8AXxC2"
      },
      "source": [
        "## Define label"
      ]
    },
    {
      "cell_type": "code",
      "metadata": {
        "id": "XpBiKlVqXqI7"
      },
      "source": [
        "train_y = train.pop('Species')\n",
        "test_y = test.pop('Species')"
      ],
      "execution_count": 5,
      "outputs": []
    },
    {
      "cell_type": "code",
      "metadata": {
        "colab": {
          "base_uri": "https://localhost:8080/"
        },
        "id": "CRcrCTsDX61w",
        "outputId": "b706b05f-adff-4ad5-9988-4f5aad5459fb"
      },
      "source": [
        "train.shape"
      ],
      "execution_count": 6,
      "outputs": [
        {
          "output_type": "execute_result",
          "data": {
            "text/plain": [
              "(120, 4)"
            ]
          },
          "metadata": {
            "tags": []
          },
          "execution_count": 6
        }
      ]
    },
    {
      "cell_type": "markdown",
      "metadata": {
        "id": "yAYI-f8_Yaje"
      },
      "source": [
        "## Input function"
      ]
    },
    {
      "cell_type": "code",
      "metadata": {
        "id": "fOzKlwTRYc1N"
      },
      "source": [
        "def input_fn(features, labels, training=True, batch_size=256):\n",
        "  dataset = tf.data.Dataset.from_tensor_slices((dict(features), labels))\n",
        "\n",
        "  if training:\n",
        "    dataset = dataset.shuffle(1000).repeat()\n",
        "\n",
        "  return dataset.batch(batch_size)"
      ],
      "execution_count": 7,
      "outputs": []
    },
    {
      "cell_type": "markdown",
      "metadata": {
        "id": "DOQBWSUtY_-u"
      },
      "source": [
        "## Feature columns"
      ]
    },
    {
      "cell_type": "code",
      "metadata": {
        "colab": {
          "base_uri": "https://localhost:8080/"
        },
        "id": "5ibB0TJYY56i",
        "outputId": "8356f420-b555-4075-b959-18ae66f8d83d"
      },
      "source": [
        "feature_columns = []\n",
        "for key in train.keys():\n",
        "  feature_columns.append(tf.feature_column.numeric_column(key=key))\n",
        "print(feature_columns)"
      ],
      "execution_count": 8,
      "outputs": [
        {
          "output_type": "stream",
          "text": [
            "[NumericColumn(key='SepalLength', shape=(1,), default_value=None, dtype=tf.float32, normalizer_fn=None), NumericColumn(key='SepalWidth', shape=(1,), default_value=None, dtype=tf.float32, normalizer_fn=None), NumericColumn(key='PetalLength', shape=(1,), default_value=None, dtype=tf.float32, normalizer_fn=None), NumericColumn(key='PetalWidth', shape=(1,), default_value=None, dtype=tf.float32, normalizer_fn=None)]\n"
          ],
          "name": "stdout"
        }
      ]
    },
    {
      "cell_type": "markdown",
      "metadata": {
        "id": "7rpVL8QpZY-i"
      },
      "source": [
        "## Building the model"
      ]
    },
    {
      "cell_type": "code",
      "metadata": {
        "colab": {
          "base_uri": "https://localhost:8080/"
        },
        "id": "iFe6x0D2ZVv_",
        "outputId": "c1516064-1a32-4943-c9c9-4104f22d6b0a"
      },
      "source": [
        "classifier = tf.estimator.DNNClassifier(\n",
        "    feature_columns=feature_columns,\n",
        "    hidden_units=[30, 10],\n",
        "    n_classes=3\n",
        ")"
      ],
      "execution_count": 9,
      "outputs": [
        {
          "output_type": "stream",
          "text": [
            "INFO:tensorflow:Using default config.\n",
            "WARNING:tensorflow:Using temporary folder as model directory: /tmp/tmp1m9pvlm3\n",
            "INFO:tensorflow:Using config: {'_model_dir': '/tmp/tmp1m9pvlm3', '_tf_random_seed': None, '_save_summary_steps': 100, '_save_checkpoints_steps': None, '_save_checkpoints_secs': 600, '_session_config': allow_soft_placement: true\n",
            "graph_options {\n",
            "  rewrite_options {\n",
            "    meta_optimizer_iterations: ONE\n",
            "  }\n",
            "}\n",
            ", '_keep_checkpoint_max': 5, '_keep_checkpoint_every_n_hours': 10000, '_log_step_count_steps': 100, '_train_distribute': None, '_device_fn': None, '_protocol': None, '_eval_distribute': None, '_experimental_distribute': None, '_experimental_max_worker_delay_secs': None, '_session_creation_timeout_secs': 7200, '_service': None, '_cluster_spec': ClusterSpec({}), '_task_type': 'worker', '_task_id': 0, '_global_id_in_cluster': 0, '_master': '', '_evaluation_master': '', '_is_chief': True, '_num_ps_replicas': 0, '_num_worker_replicas': 1}\n"
          ],
          "name": "stdout"
        }
      ]
    },
    {
      "cell_type": "markdown",
      "metadata": {
        "id": "sdtz_rohaSWP"
      },
      "source": [
        "## Training the model"
      ]
    },
    {
      "cell_type": "code",
      "metadata": {
        "colab": {
          "base_uri": "https://localhost:8080/"
        },
        "id": "B_baNGocZ77V",
        "outputId": "a8acbb15-ea4b-4e24-ecfd-183a8f4c7c50"
      },
      "source": [
        "classifier.train(\n",
        "    input_fn=lambda: input_fn(train, train_y, training=True),\n",
        "    steps=5000\n",
        ")"
      ],
      "execution_count": 13,
      "outputs": [
        {
          "output_type": "stream",
          "text": [
            "INFO:tensorflow:Calling model_fn.\n",
            "WARNING:tensorflow:Layer dnn is casting an input tensor from dtype float64 to the layer's dtype of float32, which is new behavior in TensorFlow 2.  The layer has dtype float32 because its dtype defaults to floatx.\n",
            "\n",
            "If you intended to run this layer in float32, you can safely ignore this warning. If in doubt, this warning is likely only an issue if you are porting a TensorFlow 1.X model to TensorFlow 2.\n",
            "\n",
            "To change all layers to have dtype float64 by default, call `tf.keras.backend.set_floatx('float64')`. To change just this layer, pass dtype='float64' to the layer constructor. If you are the author of this layer, you can disable autocasting by passing autocast=False to the base Layer constructor.\n",
            "\n",
            "INFO:tensorflow:Done calling model_fn.\n",
            "INFO:tensorflow:Create CheckpointSaverHook.\n",
            "INFO:tensorflow:Graph was finalized.\n",
            "INFO:tensorflow:Restoring parameters from /tmp/tmp1m9pvlm3/model.ckpt-15000\n",
            "INFO:tensorflow:Running local_init_op.\n",
            "INFO:tensorflow:Done running local_init_op.\n",
            "INFO:tensorflow:Calling checkpoint listeners before saving checkpoint 15000...\n",
            "INFO:tensorflow:Saving checkpoints for 15000 into /tmp/tmp1m9pvlm3/model.ckpt.\n",
            "INFO:tensorflow:Calling checkpoint listeners after saving checkpoint 15000...\n",
            "INFO:tensorflow:loss = 0.20141685, step = 15000\n",
            "INFO:tensorflow:global_step/sec: 505.073\n",
            "INFO:tensorflow:loss = 0.20123678, step = 15100 (0.200 sec)\n",
            "INFO:tensorflow:global_step/sec: 604.995\n",
            "INFO:tensorflow:loss = 0.20816582, step = 15200 (0.165 sec)\n",
            "INFO:tensorflow:global_step/sec: 613.479\n",
            "INFO:tensorflow:loss = 0.2024084, step = 15300 (0.163 sec)\n",
            "INFO:tensorflow:global_step/sec: 646.245\n",
            "INFO:tensorflow:loss = 0.1972399, step = 15400 (0.155 sec)\n",
            "INFO:tensorflow:global_step/sec: 662.672\n",
            "INFO:tensorflow:loss = 0.19816728, step = 15500 (0.153 sec)\n",
            "INFO:tensorflow:global_step/sec: 643.978\n",
            "INFO:tensorflow:loss = 0.19104284, step = 15600 (0.155 sec)\n",
            "INFO:tensorflow:global_step/sec: 637.762\n",
            "INFO:tensorflow:loss = 0.18743281, step = 15700 (0.154 sec)\n",
            "INFO:tensorflow:global_step/sec: 637.338\n",
            "INFO:tensorflow:loss = 0.19071919, step = 15800 (0.160 sec)\n",
            "INFO:tensorflow:global_step/sec: 652.761\n",
            "INFO:tensorflow:loss = 0.19098723, step = 15900 (0.153 sec)\n",
            "INFO:tensorflow:global_step/sec: 648.22\n",
            "INFO:tensorflow:loss = 0.18774027, step = 16000 (0.152 sec)\n",
            "INFO:tensorflow:global_step/sec: 666.429\n",
            "INFO:tensorflow:loss = 0.18601121, step = 16100 (0.150 sec)\n",
            "INFO:tensorflow:global_step/sec: 639.839\n",
            "INFO:tensorflow:loss = 0.18939137, step = 16200 (0.158 sec)\n",
            "INFO:tensorflow:global_step/sec: 620.868\n",
            "INFO:tensorflow:loss = 0.19177091, step = 16300 (0.159 sec)\n",
            "INFO:tensorflow:global_step/sec: 634.004\n",
            "INFO:tensorflow:loss = 0.18206918, step = 16400 (0.158 sec)\n",
            "INFO:tensorflow:global_step/sec: 654.162\n",
            "INFO:tensorflow:loss = 0.18517344, step = 16500 (0.152 sec)\n",
            "INFO:tensorflow:global_step/sec: 653.235\n",
            "INFO:tensorflow:loss = 0.1839802, step = 16600 (0.156 sec)\n",
            "INFO:tensorflow:global_step/sec: 658.033\n",
            "INFO:tensorflow:loss = 0.17486885, step = 16700 (0.149 sec)\n",
            "INFO:tensorflow:global_step/sec: 660.472\n",
            "INFO:tensorflow:loss = 0.1913206, step = 16800 (0.153 sec)\n",
            "INFO:tensorflow:global_step/sec: 663.789\n",
            "INFO:tensorflow:loss = 0.1871537, step = 16900 (0.152 sec)\n",
            "INFO:tensorflow:global_step/sec: 631.306\n",
            "INFO:tensorflow:loss = 0.1832616, step = 17000 (0.156 sec)\n",
            "INFO:tensorflow:global_step/sec: 674.397\n",
            "INFO:tensorflow:loss = 0.18372598, step = 17100 (0.148 sec)\n",
            "INFO:tensorflow:global_step/sec: 659.229\n",
            "INFO:tensorflow:loss = 0.1883774, step = 17200 (0.154 sec)\n",
            "INFO:tensorflow:global_step/sec: 647.216\n",
            "INFO:tensorflow:loss = 0.17713511, step = 17300 (0.156 sec)\n",
            "INFO:tensorflow:global_step/sec: 625.768\n",
            "INFO:tensorflow:loss = 0.17751586, step = 17400 (0.162 sec)\n",
            "INFO:tensorflow:global_step/sec: 616.802\n",
            "INFO:tensorflow:loss = 0.18259428, step = 17500 (0.157 sec)\n",
            "INFO:tensorflow:global_step/sec: 651.343\n",
            "INFO:tensorflow:loss = 0.1879175, step = 17600 (0.156 sec)\n",
            "INFO:tensorflow:global_step/sec: 616.877\n",
            "INFO:tensorflow:loss = 0.17842956, step = 17700 (0.162 sec)\n",
            "INFO:tensorflow:global_step/sec: 652.914\n",
            "INFO:tensorflow:loss = 0.16504785, step = 17800 (0.153 sec)\n",
            "INFO:tensorflow:global_step/sec: 655.782\n",
            "INFO:tensorflow:loss = 0.1746188, step = 17900 (0.150 sec)\n",
            "INFO:tensorflow:global_step/sec: 642.162\n",
            "INFO:tensorflow:loss = 0.17773227, step = 18000 (0.156 sec)\n",
            "INFO:tensorflow:global_step/sec: 651.487\n",
            "INFO:tensorflow:loss = 0.17678902, step = 18100 (0.153 sec)\n",
            "INFO:tensorflow:global_step/sec: 632.25\n",
            "INFO:tensorflow:loss = 0.17591675, step = 18200 (0.158 sec)\n",
            "INFO:tensorflow:global_step/sec: 527.939\n",
            "INFO:tensorflow:loss = 0.17892528, step = 18300 (0.192 sec)\n",
            "INFO:tensorflow:global_step/sec: 627.223\n",
            "INFO:tensorflow:loss = 0.16767333, step = 18400 (0.160 sec)\n",
            "INFO:tensorflow:global_step/sec: 644.605\n",
            "INFO:tensorflow:loss = 0.16745383, step = 18500 (0.155 sec)\n",
            "INFO:tensorflow:global_step/sec: 614.923\n",
            "INFO:tensorflow:loss = 0.16880894, step = 18600 (0.160 sec)\n",
            "INFO:tensorflow:global_step/sec: 651.044\n",
            "INFO:tensorflow:loss = 0.16876142, step = 18700 (0.153 sec)\n",
            "INFO:tensorflow:global_step/sec: 625.508\n",
            "INFO:tensorflow:loss = 0.16589549, step = 18800 (0.163 sec)\n",
            "INFO:tensorflow:global_step/sec: 525.691\n",
            "INFO:tensorflow:loss = 0.16751489, step = 18900 (0.188 sec)\n",
            "INFO:tensorflow:global_step/sec: 631.687\n",
            "INFO:tensorflow:loss = 0.17017235, step = 19000 (0.158 sec)\n",
            "INFO:tensorflow:global_step/sec: 663.38\n",
            "INFO:tensorflow:loss = 0.1523701, step = 19100 (0.150 sec)\n",
            "INFO:tensorflow:global_step/sec: 648.762\n",
            "INFO:tensorflow:loss = 0.16428576, step = 19200 (0.156 sec)\n",
            "INFO:tensorflow:global_step/sec: 656.542\n",
            "INFO:tensorflow:loss = 0.162758, step = 19300 (0.150 sec)\n",
            "INFO:tensorflow:global_step/sec: 607.064\n",
            "INFO:tensorflow:loss = 0.1540711, step = 19400 (0.168 sec)\n",
            "INFO:tensorflow:global_step/sec: 606.959\n",
            "INFO:tensorflow:loss = 0.16150698, step = 19500 (0.162 sec)\n",
            "INFO:tensorflow:global_step/sec: 606.607\n",
            "INFO:tensorflow:loss = 0.15834442, step = 19600 (0.168 sec)\n",
            "INFO:tensorflow:global_step/sec: 651.215\n",
            "INFO:tensorflow:loss = 0.16271704, step = 19700 (0.152 sec)\n",
            "INFO:tensorflow:global_step/sec: 627.965\n",
            "INFO:tensorflow:loss = 0.16260284, step = 19800 (0.160 sec)\n",
            "INFO:tensorflow:global_step/sec: 637.189\n",
            "INFO:tensorflow:loss = 0.16276291, step = 19900 (0.158 sec)\n",
            "INFO:tensorflow:Calling checkpoint listeners before saving checkpoint 20000...\n",
            "INFO:tensorflow:Saving checkpoints for 20000 into /tmp/tmp1m9pvlm3/model.ckpt.\n",
            "INFO:tensorflow:Calling checkpoint listeners after saving checkpoint 20000...\n",
            "INFO:tensorflow:Loss for final step: 0.16199584.\n"
          ],
          "name": "stdout"
        },
        {
          "output_type": "execute_result",
          "data": {
            "text/plain": [
              "<tensorflow_estimator.python.estimator.canned.dnn.DNNClassifierV2 at 0x7f913f377ef0>"
            ]
          },
          "metadata": {
            "tags": []
          },
          "execution_count": 13
        }
      ]
    },
    {
      "cell_type": "code",
      "metadata": {
        "colab": {
          "base_uri": "https://localhost:8080/"
        },
        "id": "T76t38_ladHu",
        "outputId": "ffe80419-e7e6-440c-e7d8-dee2a6b59331"
      },
      "source": [
        "eval_result = classifier.evaluate(input_fn=lambda: input_fn(test, test_y, training=False))"
      ],
      "execution_count": 16,
      "outputs": [
        {
          "output_type": "stream",
          "text": [
            "INFO:tensorflow:Calling model_fn.\n",
            "WARNING:tensorflow:Layer dnn is casting an input tensor from dtype float64 to the layer's dtype of float32, which is new behavior in TensorFlow 2.  The layer has dtype float32 because its dtype defaults to floatx.\n",
            "\n",
            "If you intended to run this layer in float32, you can safely ignore this warning. If in doubt, this warning is likely only an issue if you are porting a TensorFlow 1.X model to TensorFlow 2.\n",
            "\n",
            "To change all layers to have dtype float64 by default, call `tf.keras.backend.set_floatx('float64')`. To change just this layer, pass dtype='float64' to the layer constructor. If you are the author of this layer, you can disable autocasting by passing autocast=False to the base Layer constructor.\n",
            "\n",
            "INFO:tensorflow:Done calling model_fn.\n",
            "INFO:tensorflow:Starting evaluation at 2020-11-20T20:55:03Z\n",
            "INFO:tensorflow:Graph was finalized.\n",
            "INFO:tensorflow:Restoring parameters from /tmp/tmp1m9pvlm3/model.ckpt-20000\n",
            "INFO:tensorflow:Running local_init_op.\n",
            "INFO:tensorflow:Done running local_init_op.\n",
            "INFO:tensorflow:Inference Time : 0.21351s\n",
            "INFO:tensorflow:Finished evaluation at 2020-11-20-20:55:03\n",
            "INFO:tensorflow:Saving dict for global step 20000: accuracy = 0.96666664, average_loss = 0.17725179, global_step = 20000, loss = 0.17725179\n",
            "INFO:tensorflow:Saving 'checkpoint_path' summary for global step 20000: /tmp/tmp1m9pvlm3/model.ckpt-20000\n"
          ],
          "name": "stdout"
        }
      ]
    },
    {
      "cell_type": "code",
      "metadata": {
        "colab": {
          "base_uri": "https://localhost:8080/"
        },
        "id": "xIdxsc9sb1YI",
        "outputId": "fe32ba02-fd22-4b7a-e0e1-b585999ea6a2"
      },
      "source": [
        "print('Test set accuracy: {accuracy:0.3f}'.format(**eval_result))"
      ],
      "execution_count": 23,
      "outputs": [
        {
          "output_type": "stream",
          "text": [
            "Test set accuracy: 0.967\n"
          ],
          "name": "stdout"
        }
      ]
    },
    {
      "cell_type": "markdown",
      "metadata": {
        "id": "ABcrCp0ccgIo"
      },
      "source": [
        "## Predictor based on user inputted features"
      ]
    },
    {
      "cell_type": "code",
      "metadata": {
        "colab": {
          "base_uri": "https://localhost:8080/"
        },
        "id": "2lVD18GzcFUK",
        "outputId": "0e8a38b0-80ba-4608-c1be-a6576346a664"
      },
      "source": [
        "def input_fn(features, batch_size=256):\n",
        "  return tf.data.Dataset.from_tensor_slices(dict(features)).batch(batch_size)\n",
        "\n",
        "features = ['SepalLength', 'SepalWidth', 'PetalLength', 'PetalWidth']\n",
        "predict = {}\n",
        "\n",
        "print(\"Please type numeric values as prompted.\")\n",
        "for feature in features:\n",
        "  valid = True\n",
        "  while valid:\n",
        "    val = input(feature + ': ')\n",
        "    if not val.isdigit():\n",
        "      valid = False\n",
        "    \n",
        "  predict[feature] = [float(val)]\n",
        "\n",
        "predictions = classifier.predict(input_fn=lambda: input_fn(predict))\n",
        "for pred_dict in predictions:\n",
        "  class_id = pred_dict['class_ids'][0]\n",
        "  probability = pred_dict['probabilities'][class_id]\n",
        "\n",
        "  print('Prediction is \"{}\" ({:.1f}%)'.format(\n",
        "      SPECIES[class_id], 100 * probability\n",
        "  ))"
      ],
      "execution_count": 32,
      "outputs": [
        {
          "output_type": "stream",
          "text": [
            "Please type numeric values as prompted.\n",
            "SepalLength: 2.2\n",
            "SepalWidth: 2.5\n",
            "PetalLength: 1.8\n",
            "PetalWidth: 2.9\n",
            "INFO:tensorflow:Calling model_fn.\n",
            "INFO:tensorflow:Done calling model_fn.\n",
            "INFO:tensorflow:Graph was finalized.\n",
            "INFO:tensorflow:Restoring parameters from /tmp/tmp1m9pvlm3/model.ckpt-20000\n",
            "INFO:tensorflow:Running local_init_op.\n",
            "INFO:tensorflow:Done running local_init_op.\n",
            "Prediction is \"Virginica\" (88.1%)\n"
          ],
          "name": "stdout"
        }
      ]
    },
    {
      "cell_type": "code",
      "metadata": {
        "id": "uNo1pzsSfQkY"
      },
      "source": [
        ""
      ],
      "execution_count": null,
      "outputs": []
    }
  ]
}