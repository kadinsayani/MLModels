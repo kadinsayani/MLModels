{
  "nbformat": 4,
  "nbformat_minor": 0,
  "metadata": {
    "colab": {
      "name": "Hidden Markov Weather Model.ipynb",
      "provenance": [],
      "authorship_tag": "ABX9TyOIJNjr+4bqemJ0wEqyrEVf",
      "include_colab_link": true
    },
    "kernelspec": {
      "name": "python3",
      "display_name": "Python 3"
    }
  },
  "cells": [
    {
      "cell_type": "markdown",
      "metadata": {
        "id": "view-in-github",
        "colab_type": "text"
      },
      "source": [
        "<a href=\"https://colab.research.google.com/github/kadinsayani/MLModels/blob/main/Hidden_Markov_Weather_Model.ipynb\" target=\"_parent\"><img src=\"https://colab.research.google.com/assets/colab-badge.svg\" alt=\"Open In Colab\"/></a>"
      ]
    },
    {
      "cell_type": "markdown",
      "metadata": {
        "id": "TibRVmyy9ExM"
      },
      "source": [
        "# Hidden Markov Weather Model"
      ]
    },
    {
      "cell_type": "markdown",
      "metadata": {
        "id": "jOK8_wBR9JNz"
      },
      "source": [
        "## Imports and setup"
      ]
    },
    {
      "cell_type": "code",
      "metadata": {
        "id": "zRszNdk5yruh"
      },
      "source": [
        "%tensorflow_version 2.x\n",
        "import tensorflow_probability as tfp\n",
        "import tensorflow as tf"
      ],
      "execution_count": 1,
      "outputs": []
    },
    {
      "cell_type": "markdown",
      "metadata": {
        "id": "U_TKvlgt9ttx"
      },
      "source": [
        "## Weather Model\n",
        "\n",
        "Example from TensorFlow documentation (https://www.tensorflow.org/probability/api_docs/python/tfp/distributions/HiddenMarkovModel)\n",
        "\n",
        "We will model a weather system to predict the temperature on each day in a week given:\n",
        "- Cold days are encoded by a 0 and hot days by a 1\n",
        "- First day has an 80% chance of being cold\n",
        "- A cold day has a 30% chance of being followed by a hot day\n",
        "- A hot day has a 20% chance of being followed by a cold day\n",
        "- On each day the temperature is normally distributed with a mean and standard deviation of 0 and 5 on a cold day and a mean and standard deviation of 15 and 10 on a hot day"
      ]
    },
    {
      "cell_type": "code",
      "metadata": {
        "id": "wY-hR3MD9ses"
      },
      "source": [
        "tfd = tfp.distributions\n",
        "initial_distribution = tfd.Categorical(probs=[0.8, 0.2])\n",
        "transition_distribution = tfd.Categorical(probs=[[0.7, 0.3], [0.2, 0.8]])\n",
        "observation_distribution = tfd.Normal(loc=[0., 15.], scale=[5., 10.])"
      ],
      "execution_count": 2,
      "outputs": []
    },
    {
      "cell_type": "code",
      "metadata": {
        "id": "1nJSNjAZAAVk"
      },
      "source": [
        "model = tfd.HiddenMarkovModel(initial_distribution=initial_distribution,\n",
        "                              transition_distribution=transition_distribution,\n",
        "                              observation_distribution=observation_distribution,\n",
        "                              num_steps=7)"
      ],
      "execution_count": 3,
      "outputs": []
    },
    {
      "cell_type": "code",
      "metadata": {
        "colab": {
          "base_uri": "https://localhost:8080/"
        },
        "id": "EXy9dqakAug6",
        "outputId": "160f8148-2926-4184-d058-50754e220278"
      },
      "source": [
        "mean = model.mean()\n",
        "\n",
        "with tf.compat.v1.Session() as sess:\n",
        "  print(mean.numpy())"
      ],
      "execution_count": 4,
      "outputs": [
        {
          "output_type": "stream",
          "text": [
            "[2.9999998 5.9999995 7.4999995 8.25      8.625001  8.812501  8.90625  ]\n"
          ],
          "name": "stdout"
        }
      ]
    }
  ]
}